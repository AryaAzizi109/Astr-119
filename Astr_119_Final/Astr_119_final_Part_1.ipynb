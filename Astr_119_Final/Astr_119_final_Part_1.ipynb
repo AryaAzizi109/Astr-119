{
 "cells": [
  {
   "cell_type": "markdown",
   "id": "4e31236b",
   "metadata": {},
   "source": [
    "Import all packages"
   ]
  },
  {
   "cell_type": "code",
   "execution_count": null,
   "id": "1265f4ec",
   "metadata": {},
   "outputs": [],
   "source": [
    "import numpy as np \n",
    "import sep \n",
    "from astropy.io import fits \n",
    "import matplotlib.pyplot as plt\n",
    "from matplotlib import rcParams\n",
    "from astropy.utils.data import get_pkg_data_filename\n",
    "from matplotlib.patches import Ellipse"
   ]
  },
  {
   "cell_type": "markdown",
   "id": "4203aae1",
   "metadata": {},
   "source": [
    "Tell Astropy where to find .Fits file on my mac"
   ]
  },
  {
   "cell_type": "code",
   "execution_count": null,
   "id": "8cf8a3d2",
   "metadata": {},
   "outputs": [],
   "source": [
    "image_file = get_pkg_data_filename('/Users/aryaazizi/Desktop/UCSC/Astr_119/Final/image.fits')"
   ]
  },
  {
   "cell_type": "code",
   "execution_count": null,
   "id": "e1fd68b8",
   "metadata": {},
   "outputs": [],
   "source": [
    "fits.info(image_file)   #to better understand file data "
   ]
  },
  {
   "cell_type": "markdown",
   "id": "569bf472",
   "metadata": {},
   "source": [
    "Read data into a 2d numpy array "
   ]
  },
  {
   "cell_type": "code",
   "execution_count": null,
   "id": "58f9e39a",
   "metadata": {},
   "outputs": [],
   "source": [
    "data = fits.getdata(image_file)"
   ]
  },
  {
   "cell_type": "code",
   "execution_count": null,
   "id": "559eb5cb",
   "metadata": {},
   "outputs": [],
   "source": [
    "print(data.shape)\n",
    "print(type(data))      #more info on data "
   ]
  },
  {
   "cell_type": "markdown",
   "id": "49d74e4a",
   "metadata": {},
   "source": [
    "Plot the numpy data with matplotlib, and save the image  "
   ]
  },
  {
   "cell_type": "code",
   "execution_count": null,
   "id": "9cb10b20",
   "metadata": {},
   "outputs": [],
   "source": [
    "plt.figure()\n",
    "m, s = np.mean(data), np.std(data)\n",
    "plt.imshow(data, interpolation='nearest', cmap='gray', vmin=m-s, vmax=m+s, origin='lower')\n",
    "plt.colorbar()\n",
    "\n",
    "plt.show()\n",
    "plt.savefig('displayed_Fits_file.png')"
   ]
  },
  {
   "cell_type": "markdown",
   "id": "18927dfe",
   "metadata": {},
   "source": [
    "Measure varying background data "
   ]
  },
  {
   "cell_type": "code",
   "execution_count": null,
   "id": "2c09e2f9",
   "metadata": {},
   "outputs": [],
   "source": [
    "bkg = sep.Background(data)\n",
    "bkg = sep.Background(data, mask=None, bw=64, bh=64, fw=3, fh=3)"
   ]
  },
  {
   "cell_type": "markdown",
   "id": "a7c94c4f",
   "metadata": {},
   "source": [
    "get mean and noise of background data "
   ]
  },
  {
   "cell_type": "code",
   "execution_count": null,
   "id": "cfab0e32",
   "metadata": {},
   "outputs": [],
   "source": [
    "print(bkg.globalback)\n",
    "print(bkg.globalrms)"
   ]
  },
  {
   "cell_type": "markdown",
   "id": "1304ec6e",
   "metadata": {},
   "source": [
    "evaluate background as 2-d array"
   ]
  },
  {
   "cell_type": "code",
   "execution_count": null,
   "id": "56385e2a",
   "metadata": {},
   "outputs": [],
   "source": [
    "bkg_image = bkg.back()"
   ]
  },
  {
   "cell_type": "markdown",
   "id": "7990ea3c",
   "metadata": {},
   "source": [
    "Show plot and save image "
   ]
  },
  {
   "cell_type": "code",
   "execution_count": null,
   "id": "963ac142",
   "metadata": {},
   "outputs": [],
   "source": [
    "plt.imshow(bkg_image, interpolation='nearest', cmap='gray', origin='lower')\n",
    "plt.colorbar();\n",
    "plt.show()\n",
    "plt.savefig('Background.png')"
   ]
  },
  {
   "cell_type": "code",
   "execution_count": null,
   "id": "3dd9b0c9",
   "metadata": {},
   "outputs": [],
   "source": [
    "Subtract background data "
   ]
  },
  {
   "cell_type": "code",
   "execution_count": null,
   "id": "d362dcd8",
   "metadata": {},
   "outputs": [],
   "source": [
    "data_sub = data - bkg"
   ]
  },
  {
   "cell_type": "markdown",
   "id": "15a92559",
   "metadata": {},
   "source": [
    "Set detection threshold for object detection "
   ]
  },
  {
   "cell_type": "code",
   "execution_count": null,
   "id": "03363f62",
   "metadata": {},
   "outputs": [],
   "source": [
    "objects = sep.extract(data_sub, 1.5, err=bkg.globalrms)"
   ]
  },
  {
   "cell_type": "markdown",
   "id": "c3447628",
   "metadata": {},
   "source": [
    "Print objects in list "
   ]
  },
  {
   "cell_type": "code",
   "execution_count": null,
   "id": "6bae3718",
   "metadata": {},
   "outputs": [],
   "source": [
    "print(len(objects))"
   ]
  },
  {
   "cell_type": "code",
   "execution_count": null,
   "id": "bcebea75",
   "metadata": {},
   "outputs": [],
   "source": [
    "# plot background data\n",
    "fig, ax = plt.subplots()\n",
    "m, s = np.mean(data_sub), np.std(data_sub)\n",
    "im = ax.imshow(data_sub, interpolation='nearest', cmap='gray',\n",
    "               vmin=m-s, vmax=m+s, origin='lower')\n",
    "\n",
    "# plot ellipse for each object \n",
    "for i in range(len(objects)):\n",
    "    e = Ellipse(xy=(objects['x'][i], objects['y'][i]),\n",
    "                width=6*objects['a'][i],\n",
    "                height=6*objects['b'][i],\n",
    "                angle=objects['theta'][i] * 180. / np.pi)\n",
    "    e.set_facecolor('none')\n",
    "    e.set_edgecolor('green')\n",
    "    ax.add_artist(e)\n",
    "objects.dtype.names\n",
    "plt.show()\n",
    "plt.savefig('Object_Detection.png')"
   ]
  },
  {
   "cell_type": "markdown",
   "id": "5dd189b9",
   "metadata": {},
   "source": [
    "circular aperture photometry"
   ]
  },
  {
   "cell_type": "code",
   "execution_count": null,
   "id": "37434c7e",
   "metadata": {},
   "outputs": [],
   "source": [
    "flux, fluxerr, flag = sep.sum_circle(data_sub, objects['x'], objects['y'],\n",
    "                                     3.0, err=bkg.globalrms, gain=1.0)"
   ]
  },
  {
   "cell_type": "markdown",
   "id": "d02cf650",
   "metadata": {},
   "source": [
    "Show first 10 object results "
   ]
  },
  {
   "cell_type": "code",
   "execution_count": null,
   "id": "e89d4b17",
   "metadata": {},
   "outputs": [],
   "source": [
    "for i in range(10):\n",
    "    print(\"object {:d}: flux = {:f} +/- {:f}\".format(i, flux[i], fluxerr[i]))"
   ]
  },
  {
   "cell_type": "markdown",
   "id": "53df0d26",
   "metadata": {},
   "source": [
    "Plot Histogram of fluxes"
   ]
  },
  {
   "cell_type": "code",
   "execution_count": null,
   "id": "f7bb537d",
   "metadata": {},
   "outputs": [],
   "source": [
    "fig = plt.subplots(figsize =(6, 6))\n",
    "plt.hist(flux, bins = 5)\n",
    "plt.show()\n",
    "plt.savefig('Histogram.png')"
   ]
  }
 ],
 "metadata": {
  "kernelspec": {
   "display_name": "Python 3 (ipykernel)",
   "language": "python",
   "name": "python3"
  },
  "language_info": {
   "codemirror_mode": {
    "name": "ipython",
    "version": 3
   },
   "file_extension": ".py",
   "mimetype": "text/x-python",
   "name": "python",
   "nbconvert_exporter": "python",
   "pygments_lexer": "ipython3",
   "version": "3.10.0"
  }
 },
 "nbformat": 4,
 "nbformat_minor": 5
}
