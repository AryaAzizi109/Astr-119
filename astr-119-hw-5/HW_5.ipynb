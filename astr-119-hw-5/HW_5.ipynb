{
 "cells": [
  {
   "cell_type": "code",
   "execution_count": null,
   "id": "312f93fd",
   "metadata": {},
   "outputs": [],
   "source": [
    "%matplotlib inline\n",
    "import numpy as np\n",
    "import matplotlib.pyplot as plt"
   ]
  },
  {
   "cell_type": "code",
   "execution_count": null,
   "id": "391eff91",
   "metadata": {},
   "outputs": [],
   "source": [
    "def func(x):\n",
    "    a = 2.0\n",
    "    b = 10.0\n",
    "    return (np.exp(-a*x))*np.cos(b*x)"
   ]
  },
  {
   "cell_type": "code",
   "execution_count": null,
   "id": "6e88b952",
   "metadata": {},
   "outputs": [],
   "source": [
    "def func_integral(x):\n",
    "    a = 2.0\n",
    "    b = 10.0\n",
    "    return ((np.exp(-a*x))*(b*np.sin(b*x) - a*np.cos(b*x)))/(b**2 + a**2)"
   ]
  },
  {
   "cell_type": "code",
   "execution_count": null,
   "id": "7a5fb473",
   "metadata": {},
   "outputs": [],
   "source": [
    "def trapezoid_core(f,x,h):\n",
    "    return 0.5*h*(f(x+h) + f(x))"
   ]
  },
  {
   "cell_type": "code",
   "execution_count": null,
   "id": "1be8fa75",
   "metadata": {},
   "outputs": [],
   "source": [
    "def trapezoid_method(f,a,b,N):\n",
    "    x = np.linspace(a,b,N)\n",
    "    h = x[1]-x[0]\n",
    "    Fint = 0.0\n",
    "    for i in range(0,len(x)-1,1):\n",
    "        Fint += trapezoid_core(f,x[i],h)\n",
    "    return Fint\n"
   ]
  },
  {
   "cell_type": "code",
   "execution_count": null,
   "id": "c19b99c9",
   "metadata": {},
   "outputs": [],
   "source": [
    "def simpson_core(f,x,h):\n",
    "    return h*( f(x) + 4*f(x+h) + f(x+2*h))/3.\n"
   ]
  },
  {
   "cell_type": "code",
   "execution_count": null,
   "id": "38844b41",
   "metadata": {},
   "outputs": [],
   "source": [
    "def simpsons_method(f,a,b,N):\n",
    "    x = np.linspace(a,b,N)\n",
    "    h = x[1]-x[0]\n",
    "    Fint = 0.0\n",
    "    \n",
    "    for i in range(0,len(x)-2,2):\n",
    "        Fint += simpson_core(f,x[i],h)\n",
    "    if((N%2)==0):\n",
    "        Fint += simpson_core(f,x[-2],0.5*h)\n",
    "    return Fint"
   ]
  },
  {
   "cell_type": "code",
   "execution_count": null,
   "id": "cf32fdbf",
   "metadata": {},
   "outputs": [],
   "source": [
    "def romberg_core(f,a,b,i):\n",
    "    h = b-a\n",
    "    dh = h/2**(i)\n",
    "    K = h/2.**(i+1)\n",
    "    M = 0.0\n",
    "    for j in range(2**i):\n",
    "        M += f(a + 0.5*dh + j*dh)\n",
    "    return K*M"
   ]
  },
  {
   "cell_type": "code",
   "execution_count": null,
   "id": "f0ec67fd",
   "metadata": {},
   "outputs": [],
   "source": [
    "def romberg_integration(f,a,b,tol):\n",
    "    i = 0\n",
    "    imax = 1000\n",
    "    delta = 100.0*np.fabs(tol)\n",
    "    I = np.zeros(imax,dtype=float)\n",
    "    I[0] = 0.5*(b-a)*(f(a) + f(b))\n",
    "    i += 1\n",
    "    \n",
    "    while(delta>tol):\n",
    "        I[i] = 0.5*I[i-1] + romberg_core(f,a,b,i)\n",
    "        delta = np.fabs( (I[i]-I[i-1])/I[i] )\n",
    "        print(i,I[i],I[i-1],delta)\n",
    "        if(delta>tol):\n",
    "            i+=1\n",
    "            if(i>imax):\n",
    "                print(\"max iterations reached.\")\n",
    "                raise stopIteration('stopping iterations after ',i)\n",
    "    return I[i]\n"
   ]
  },
  {
   "cell_type": "code",
   "execution_count": null,
   "id": "bf27f647",
   "metadata": {},
   "outputs": [],
   "source": [
    "Answer = func_integral(1)-func_integral(0)\n",
    "print(Answer)\n",
    "print(\"trapezoid\")\n",
    "print(trapezoid_method(func,0,1,10))\n",
    "print(\"simpsons_method\")\n",
    "print(simpsons_method(func,0,1,10))\n",
    "print(\"romberg\")\n",
    "tolerance = 1.0e-4\n",
    "RI = romberg_integration(func,0,1,tolerance)\n",
    "print(RI, (RI-Answer)/Answer, tolerance)\n"
   ]
  },
  {
   "cell_type": "code",
   "execution_count": null,
   "id": "d9c0725f",
   "metadata": {},
   "outputs": [],
   "source": []
  }
 ],
 "metadata": {
  "kernelspec": {
   "display_name": "Python [conda env:root] *",
   "language": "python",
   "name": "conda-root-py"
  },
  "language_info": {
   "codemirror_mode": {
    "name": "ipython",
    "version": 3
   },
   "file_extension": ".py",
   "mimetype": "text/x-python",
   "name": "python",
   "nbconvert_exporter": "python",
   "pygments_lexer": "ipython3",
   "version": "3.8.8"
  }
 },
 "nbformat": 4,
 "nbformat_minor": 5
}
